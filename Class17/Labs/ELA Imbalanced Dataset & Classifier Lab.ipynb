{
 "cells": [
  {
   "cell_type": "markdown",
   "metadata": {},
   "source": [
    "### Working With Imbalanced Data and Classifier Evaluation\n",
    "\n",
    "In today's lab, we're going to work through a sample classification problem that will allow us to see how to improve and evaluate a classifier where there's imbalanced data.  \n",
    "\n",
    "The point is to get used to using a confusion matrix, and using metrics like `precision`, `recall` and the `f1_score` in order to think about how well our model is performing across different labels."
   ]
  },
  {
   "cell_type": "code",
   "execution_count": 80,
   "metadata": {},
   "outputs": [],
   "source": [
    "# imports\n",
    "import pandas as pd\n",
    "import numpy as np\n",
    "import category_encoders as ce\n",
    "from xgboost import XGBClassifier\n",
    "from sklearn.pipeline import make_pipeline\n",
    "from sklearn.model_selection import train_test_split\n",
    "# suppress warning messages\n",
    "import warnings\n",
    "warnings.filterwarnings(\"ignore\")\n",
    "from sklearn.metrics import f1_score"
   ]
  },
  {
   "cell_type": "code",
   "execution_count": 81,
   "metadata": {},
   "outputs": [],
   "source": [
    "def get_model_scores(mod, X_train, y_train, X_test, y_test, val_score = True, test_score=False):\n",
    "    if val_score:\n",
    "        X_train, X_val, y_train, y_val = train_test_split(X_train, y_train, \n",
    "                                                          test_size = 0.2, \n",
    "                                                          stratify = y_train, \n",
    "                                                          random_state= 42)\n",
    " \n",
    "    mod.fit(X_train, y_train)\n",
    "    \n",
    "    results = {}\n",
    "    #f1_score(mod.predict(X_val), y_val)\n",
    "    results['train_score'] = mod.score(X_train, y_train)\n",
    "    if val_score:\n",
    "        results['val_score'] = mod.score(X_val, y_val)\n",
    "        \n",
    "    if test_score:\n",
    "        results['test_score'] = mod.score(X_test, y_test)\n",
    "        \n",
    "    return results"
   ]
  },
  {
   "cell_type": "markdown",
   "metadata": {},
   "source": [
    "**Step 1:** Load in the `pima` dataset, and do the following:\n",
    "\n",
    " - Create training, validation and test sets\n",
    " - Fit a `GradientBoostingClassifier` with the default configuration on your training set\n",
    " - Get both model accuracy and the `f1_score` on the validation set"
   ]
  },
  {
   "cell_type": "code",
   "execution_count": 82,
   "metadata": {},
   "outputs": [],
   "source": [
    "df = pd.read_csv(r\"/Users/ethanalter/Dropbox (Personal)/GA-4K-DataScience/gazelle-4K/unit3_data/pima.csv\")"
   ]
  },
  {
   "cell_type": "code",
   "execution_count": 83,
   "metadata": {
    "scrolled": true
   },
   "outputs": [
    {
     "data": {
      "text/html": [
       "<div>\n",
       "<style scoped>\n",
       "    .dataframe tbody tr th:only-of-type {\n",
       "        vertical-align: middle;\n",
       "    }\n",
       "\n",
       "    .dataframe tbody tr th {\n",
       "        vertical-align: top;\n",
       "    }\n",
       "\n",
       "    .dataframe thead th {\n",
       "        text-align: right;\n",
       "    }\n",
       "</style>\n",
       "<table border=\"1\" class=\"dataframe\">\n",
       "  <thead>\n",
       "    <tr style=\"text-align: right;\">\n",
       "      <th></th>\n",
       "      <th>NumChildren</th>\n",
       "      <th>GlucoseConcentration</th>\n",
       "      <th>Diastolic</th>\n",
       "      <th>BodyFatTest</th>\n",
       "      <th>SerumInsulin</th>\n",
       "      <th>BMI</th>\n",
       "      <th>DiabeticScore</th>\n",
       "      <th>Age</th>\n",
       "      <th>Diabetic</th>\n",
       "    </tr>\n",
       "  </thead>\n",
       "  <tbody>\n",
       "    <tr>\n",
       "      <th>0</th>\n",
       "      <td>6</td>\n",
       "      <td>148</td>\n",
       "      <td>72</td>\n",
       "      <td>35</td>\n",
       "      <td>0</td>\n",
       "      <td>33.6</td>\n",
       "      <td>0.627</td>\n",
       "      <td>50</td>\n",
       "      <td>1</td>\n",
       "    </tr>\n",
       "    <tr>\n",
       "      <th>1</th>\n",
       "      <td>1</td>\n",
       "      <td>85</td>\n",
       "      <td>66</td>\n",
       "      <td>29</td>\n",
       "      <td>0</td>\n",
       "      <td>26.6</td>\n",
       "      <td>0.351</td>\n",
       "      <td>31</td>\n",
       "      <td>0</td>\n",
       "    </tr>\n",
       "    <tr>\n",
       "      <th>2</th>\n",
       "      <td>8</td>\n",
       "      <td>183</td>\n",
       "      <td>64</td>\n",
       "      <td>0</td>\n",
       "      <td>0</td>\n",
       "      <td>23.3</td>\n",
       "      <td>0.672</td>\n",
       "      <td>32</td>\n",
       "      <td>1</td>\n",
       "    </tr>\n",
       "    <tr>\n",
       "      <th>3</th>\n",
       "      <td>1</td>\n",
       "      <td>89</td>\n",
       "      <td>66</td>\n",
       "      <td>23</td>\n",
       "      <td>94</td>\n",
       "      <td>28.1</td>\n",
       "      <td>0.167</td>\n",
       "      <td>21</td>\n",
       "      <td>0</td>\n",
       "    </tr>\n",
       "    <tr>\n",
       "      <th>4</th>\n",
       "      <td>0</td>\n",
       "      <td>137</td>\n",
       "      <td>40</td>\n",
       "      <td>35</td>\n",
       "      <td>168</td>\n",
       "      <td>43.1</td>\n",
       "      <td>2.288</td>\n",
       "      <td>33</td>\n",
       "      <td>1</td>\n",
       "    </tr>\n",
       "    <tr>\n",
       "      <th>...</th>\n",
       "      <td>...</td>\n",
       "      <td>...</td>\n",
       "      <td>...</td>\n",
       "      <td>...</td>\n",
       "      <td>...</td>\n",
       "      <td>...</td>\n",
       "      <td>...</td>\n",
       "      <td>...</td>\n",
       "      <td>...</td>\n",
       "    </tr>\n",
       "    <tr>\n",
       "      <th>763</th>\n",
       "      <td>10</td>\n",
       "      <td>101</td>\n",
       "      <td>76</td>\n",
       "      <td>48</td>\n",
       "      <td>180</td>\n",
       "      <td>32.9</td>\n",
       "      <td>0.171</td>\n",
       "      <td>63</td>\n",
       "      <td>0</td>\n",
       "    </tr>\n",
       "    <tr>\n",
       "      <th>764</th>\n",
       "      <td>2</td>\n",
       "      <td>122</td>\n",
       "      <td>70</td>\n",
       "      <td>27</td>\n",
       "      <td>0</td>\n",
       "      <td>36.8</td>\n",
       "      <td>0.340</td>\n",
       "      <td>27</td>\n",
       "      <td>0</td>\n",
       "    </tr>\n",
       "    <tr>\n",
       "      <th>765</th>\n",
       "      <td>5</td>\n",
       "      <td>121</td>\n",
       "      <td>72</td>\n",
       "      <td>23</td>\n",
       "      <td>112</td>\n",
       "      <td>26.2</td>\n",
       "      <td>0.245</td>\n",
       "      <td>30</td>\n",
       "      <td>0</td>\n",
       "    </tr>\n",
       "    <tr>\n",
       "      <th>766</th>\n",
       "      <td>1</td>\n",
       "      <td>126</td>\n",
       "      <td>60</td>\n",
       "      <td>0</td>\n",
       "      <td>0</td>\n",
       "      <td>30.1</td>\n",
       "      <td>0.349</td>\n",
       "      <td>47</td>\n",
       "      <td>1</td>\n",
       "    </tr>\n",
       "    <tr>\n",
       "      <th>767</th>\n",
       "      <td>1</td>\n",
       "      <td>93</td>\n",
       "      <td>70</td>\n",
       "      <td>31</td>\n",
       "      <td>0</td>\n",
       "      <td>30.4</td>\n",
       "      <td>0.315</td>\n",
       "      <td>23</td>\n",
       "      <td>0</td>\n",
       "    </tr>\n",
       "  </tbody>\n",
       "</table>\n",
       "<p>768 rows × 9 columns</p>\n",
       "</div>"
      ],
      "text/plain": [
       "     NumChildren  GlucoseConcentration  Diastolic  BodyFatTest  SerumInsulin  \\\n",
       "0              6                   148         72           35             0   \n",
       "1              1                    85         66           29             0   \n",
       "2              8                   183         64            0             0   \n",
       "3              1                    89         66           23            94   \n",
       "4              0                   137         40           35           168   \n",
       "..           ...                   ...        ...          ...           ...   \n",
       "763           10                   101         76           48           180   \n",
       "764            2                   122         70           27             0   \n",
       "765            5                   121         72           23           112   \n",
       "766            1                   126         60            0             0   \n",
       "767            1                    93         70           31             0   \n",
       "\n",
       "      BMI  DiabeticScore  Age  Diabetic  \n",
       "0    33.6          0.627   50         1  \n",
       "1    26.6          0.351   31         0  \n",
       "2    23.3          0.672   32         1  \n",
       "3    28.1          0.167   21         0  \n",
       "4    43.1          2.288   33         1  \n",
       "..    ...            ...  ...       ...  \n",
       "763  32.9          0.171   63         0  \n",
       "764  36.8          0.340   27         0  \n",
       "765  26.2          0.245   30         0  \n",
       "766  30.1          0.349   47         1  \n",
       "767  30.4          0.315   23         0  \n",
       "\n",
       "[768 rows x 9 columns]"
      ]
     },
     "execution_count": 83,
     "metadata": {},
     "output_type": "execute_result"
    }
   ],
   "source": [
    "df"
   ]
  },
  {
   "cell_type": "code",
   "execution_count": 84,
   "metadata": {},
   "outputs": [],
   "source": [
    "# def split_data(df, split_frac=0.2, random_state=42):\n",
    "#     X  = df.drop('Diabetic', axis=1)\n",
    "#     y  = df['Diabetic']\n",
    "#     # notice the use of 'stratify' -- makes sure y values are in equal proportions in train + test\n",
    "#     return train_test_split(X, y, test_size = split_frac, stratify = y, random_state = random_state)"
   ]
  },
  {
   "cell_type": "code",
   "execution_count": 85,
   "metadata": {
    "scrolled": true
   },
   "outputs": [
    {
     "data": {
      "text/plain": [
       "0.3489583333333333"
      ]
     },
     "execution_count": 85,
     "metadata": {},
     "output_type": "execute_result"
    }
   ],
   "source": [
    "df['Diabetic'].mean()"
   ]
  },
  {
   "cell_type": "code",
   "execution_count": 86,
   "metadata": {},
   "outputs": [],
   "source": [
    "weighting = (1/df['Diabetic'].mean())"
   ]
  },
  {
   "cell_type": "code",
   "execution_count": 87,
   "metadata": {},
   "outputs": [
    {
     "data": {
      "text/plain": [
       "2.865671641791045"
      ]
     },
     "execution_count": 87,
     "metadata": {},
     "output_type": "execute_result"
    }
   ],
   "source": [
    "weighting"
   ]
  },
  {
   "cell_type": "code",
   "execution_count": 88,
   "metadata": {},
   "outputs": [],
   "source": [
    "#create test and training \n",
    "X_train, X_test, y_train, y_test = train_test_split(df.drop('Diabetic', axis = 1), df['Diabetic'], \n",
    "                                                    stratify = df['Diabetic'],\n",
    "                                                    test_size = 0.2)"
   ]
  },
  {
   "cell_type": "code",
   "execution_count": 89,
   "metadata": {},
   "outputs": [],
   "source": [
    "#create validation \n",
    "X_train, X_val, y_train, y_val = train_test_split(X_train, y_train, \n",
    "                                                    stratify = y_train,\n",
    "                                                    test_size = 0.2)"
   ]
  },
  {
   "cell_type": "code",
   "execution_count": 90,
   "metadata": {},
   "outputs": [],
   "source": [
    "#instantiate model \n",
    "model = XGBClassifier(eval_metric = 'logloss')"
   ]
  },
  {
   "cell_type": "code",
   "execution_count": 91,
   "metadata": {
    "scrolled": true
   },
   "outputs": [
    {
     "data": {
      "text/plain": [
       "0.7560975609756098"
      ]
     },
     "execution_count": 91,
     "metadata": {},
     "output_type": "execute_result"
    }
   ],
   "source": [
    "#no need to create pipeline here as we're not encoding anything! \n",
    "#straight to fitting the mod\n",
    "\n",
    "model.fit(X_train, y_train).score(X_val, y_val)\n"
   ]
  },
  {
   "cell_type": "code",
   "execution_count": 92,
   "metadata": {},
   "outputs": [
    {
     "data": {
      "text/plain": [
       "0.6341463414634145"
      ]
     },
     "execution_count": 92,
     "metadata": {},
     "output_type": "execute_result"
    }
   ],
   "source": [
    "f1_score(model.predict(X_val), y_val)"
   ]
  },
  {
   "cell_type": "markdown",
   "metadata": {},
   "source": [
    "Note that we're **fitting on the training set** and then **scoring on the validation set**"
   ]
  },
  {
   "cell_type": "markdown",
   "metadata": {},
   "source": [
    "**Step 2:** Look at both the confusion matrix and classification report on your validation set.  Make sure you can recall what each metric means."
   ]
  },
  {
   "cell_type": "code",
   "execution_count": 93,
   "metadata": {},
   "outputs": [
    {
     "data": {
      "image/png": "[encoded data removed]",
      "text/plain": [
       "<Figure size 432x288 with 2 Axes>"
      ]
     },
     "metadata": {
      "needs_background": "light"
     },
     "output_type": "display_data"
    }
   ],
   "source": [
    "from sklearn.metrics import plot_confusion_matrix\n",
    "from sklearn.metrics import classification_report\n",
    "import matplotlib.pyplot as plt\n",
    "\n",
    "plot_confusion_matrix(model, X_val, y_val,\n",
    "                                 cmap=plt.cm.Blues,\n",
    "                                 normalize='true');"
   ]
  },
  {
   "cell_type": "code",
   "execution_count": 94,
   "metadata": {},
   "outputs": [
    {
     "name": "stdout",
     "output_type": "stream",
     "text": [
      "              precision    recall  f1-score   support\n",
      "\n",
      "           0       0.80      0.84      0.82        80\n",
      "           1       0.67      0.60      0.63        43\n",
      "\n",
      "    accuracy                           0.76       123\n",
      "   macro avg       0.73      0.72      0.73       123\n",
      "weighted avg       0.75      0.76      0.75       123\n",
      "\n"
     ]
    }
   ],
   "source": [
    "print(classification_report(y_val, model.predict(X_val)))"
   ]
  },
  {
   "cell_type": "markdown",
   "metadata": {},
   "source": [
    "**Step 3:** Do a parameter search using the following four categories:\n",
    " - `n_estimators`\n",
    " - `max_depth`\n",
    " - `subsample`\n",
    " - `scale_pos_weight`\n",
    " \n",
    " When you are done, refit your model on the training data using the best combination, and look at your new classification report and confusion matrix to see how they changed"
   ]
  },
  {
   "cell_type": "code",
   "execution_count": 106,
   "metadata": {},
   "outputs": [
    {
     "name": "stdout",
     "output_type": "stream",
     "text": [
      "Fitting new training loop for rounds: 50, depth: 3, sampling rate: 1.0, pos_weight: 2\n",
      "Fitting new training loop for rounds: 50, depth: 3, sampling rate: 1.0, pos_weight: 2.86\n",
      "Fitting new training loop for rounds: 50, depth: 3, sampling rate: 1.0, pos_weight: 3.5\n",
      "Fitting new training loop for rounds: 50, depth: 3, sampling rate: 0.8, pos_weight: 2\n",
      "Fitting new training loop for rounds: 50, depth: 3, sampling rate: 0.8, pos_weight: 2.86\n",
      "Fitting new training loop for rounds: 50, depth: 3, sampling rate: 0.8, pos_weight: 3.5\n",
      "Fitting new training loop for rounds: 50, depth: 3, sampling rate: 0.6, pos_weight: 2\n",
      "Fitting new training loop for rounds: 50, depth: 3, sampling rate: 0.6, pos_weight: 2.86\n",
      "Fitting new training loop for rounds: 50, depth: 3, sampling rate: 0.6, pos_weight: 3.5\n",
      "Fitting new training loop for rounds: 50, depth: 4, sampling rate: 1.0, pos_weight: 2\n",
      "Fitting new training loop for rounds: 50, depth: 4, sampling rate: 1.0, pos_weight: 2.86\n",
      "Fitting new training loop for rounds: 50, depth: 4, sampling rate: 1.0, pos_weight: 3.5\n",
      "Fitting new training loop for rounds: 50, depth: 4, sampling rate: 0.8, pos_weight: 2\n",
      "Fitting new training loop for rounds: 50, depth: 4, sampling rate: 0.8, pos_weight: 2.86\n",
      "Fitting new training loop for rounds: 50, depth: 4, sampling rate: 0.8, pos_weight: 3.5\n",
      "Fitting new training loop for rounds: 50, depth: 4, sampling rate: 0.6, pos_weight: 2\n",
      "Fitting new training loop for rounds: 50, depth: 4, sampling rate: 0.6, pos_weight: 2.86\n",
      "Fitting new training loop for rounds: 50, depth: 4, sampling rate: 0.6, pos_weight: 3.5\n",
      "Fitting new training loop for rounds: 100, depth: 3, sampling rate: 1.0, pos_weight: 2\n",
      "Fitting new training loop for rounds: 100, depth: 3, sampling rate: 1.0, pos_weight: 2.86\n",
      "Fitting new training loop for rounds: 100, depth: 3, sampling rate: 1.0, pos_weight: 3.5\n",
      "Fitting new training loop for rounds: 100, depth: 3, sampling rate: 0.8, pos_weight: 2\n",
      "Fitting new training loop for rounds: 100, depth: 3, sampling rate: 0.8, pos_weight: 2.86\n",
      "Fitting new training loop for rounds: 100, depth: 3, sampling rate: 0.8, pos_weight: 3.5\n",
      "Fitting new training loop for rounds: 100, depth: 3, sampling rate: 0.6, pos_weight: 2\n",
      "Fitting new training loop for rounds: 100, depth: 3, sampling rate: 0.6, pos_weight: 2.86\n",
      "Fitting new training loop for rounds: 100, depth: 3, sampling rate: 0.6, pos_weight: 3.5\n",
      "Fitting new training loop for rounds: 100, depth: 4, sampling rate: 1.0, pos_weight: 2\n",
      "Fitting new training loop for rounds: 100, depth: 4, sampling rate: 1.0, pos_weight: 2.86\n",
      "Fitting new training loop for rounds: 100, depth: 4, sampling rate: 1.0, pos_weight: 3.5\n",
      "Fitting new training loop for rounds: 100, depth: 4, sampling rate: 0.8, pos_weight: 2\n",
      "Fitting new training loop for rounds: 100, depth: 4, sampling rate: 0.8, pos_weight: 2.86\n",
      "Fitting new training loop for rounds: 100, depth: 4, sampling rate: 0.8, pos_weight: 3.5\n",
      "Fitting new training loop for rounds: 100, depth: 4, sampling rate: 0.6, pos_weight: 2\n",
      "Fitting new training loop for rounds: 100, depth: 4, sampling rate: 0.6, pos_weight: 2.86\n",
      "Fitting new training loop for rounds: 100, depth: 4, sampling rate: 0.6, pos_weight: 3.5\n",
      "Fitting new training loop for rounds: 150, depth: 3, sampling rate: 1.0, pos_weight: 2\n",
      "Fitting new training loop for rounds: 150, depth: 3, sampling rate: 1.0, pos_weight: 2.86\n",
      "Fitting new training loop for rounds: 150, depth: 3, sampling rate: 1.0, pos_weight: 3.5\n",
      "Fitting new training loop for rounds: 150, depth: 3, sampling rate: 0.8, pos_weight: 2\n",
      "Fitting new training loop for rounds: 150, depth: 3, sampling rate: 0.8, pos_weight: 2.86\n",
      "Fitting new training loop for rounds: 150, depth: 3, sampling rate: 0.8, pos_weight: 3.5\n",
      "Fitting new training loop for rounds: 150, depth: 3, sampling rate: 0.6, pos_weight: 2\n",
      "Fitting new training loop for rounds: 150, depth: 3, sampling rate: 0.6, pos_weight: 2.86\n",
      "Fitting new training loop for rounds: 150, depth: 3, sampling rate: 0.6, pos_weight: 3.5\n",
      "Fitting new training loop for rounds: 150, depth: 4, sampling rate: 1.0, pos_weight: 2\n",
      "Fitting new training loop for rounds: 150, depth: 4, sampling rate: 1.0, pos_weight: 2.86\n",
      "Fitting new training loop for rounds: 150, depth: 4, sampling rate: 1.0, pos_weight: 3.5\n",
      "Fitting new training loop for rounds: 150, depth: 4, sampling rate: 0.8, pos_weight: 2\n",
      "Fitting new training loop for rounds: 150, depth: 4, sampling rate: 0.8, pos_weight: 2.86\n",
      "Fitting new training loop for rounds: 150, depth: 4, sampling rate: 0.8, pos_weight: 3.5\n",
      "Fitting new training loop for rounds: 150, depth: 4, sampling rate: 0.6, pos_weight: 2\n",
      "Fitting new training loop for rounds: 150, depth: 4, sampling rate: 0.6, pos_weight: 2.86\n",
      "Fitting new training loop for rounds: 150, depth: 4, sampling rate: 0.6, pos_weight: 3.5\n"
     ]
    }
   ],
   "source": [
    "estimators = [50, 100, 150]\n",
    "max_depth  = [3, 4]\n",
    "sub_sample = [1.0, 0.8, 0.6] # this is the amount of samples to randomly sample in each round\n",
    "scale_pos_weight  = [2, 2.86, 3.5]\n",
    "cv_scores = []\n",
    "\n",
    "# do a training loop\n",
    "for estimator in estimators:\n",
    "    for depth in max_depth:\n",
    "        for sample in sub_sample:\n",
    "            for weight in scale_pos_weight:\n",
    "                print(f\"Fitting new training loop for rounds: {estimator}, depth: {depth}, sampling rate: {sample}, pos_weight: {weight}\")\n",
    "                model.set_params(n_estimators = estimator, max_depth = depth, subsample = sample, scale_pos_weight = weight)\n",
    "                model.fit(X_train, y_train) #always fit on training! \n",
    "                score = f1_score(model.predict(X_val), y_val)\n",
    "                cv_scores.append((score, estimator, depth, sample, weight))"
   ]
  },
  {
   "cell_type": "code",
   "execution_count": 107,
   "metadata": {},
   "outputs": [
    {
     "data": {
      "text/plain": [
       "[(0.7252747252747254, 50, 3, 1.0, 2),\n",
       " (0.7083333333333334, 50, 3, 1.0, 2.86),\n",
       " (0.6947368421052632, 50, 3, 1.0, 3.5),\n",
       " (0.6888888888888888, 50, 3, 0.8, 2),\n",
       " (0.7157894736842104, 50, 3, 0.8, 2.86),\n",
       " (0.673469387755102, 50, 3, 0.8, 3.5),\n",
       " (0.6436781609195402, 50, 3, 0.6, 2),\n",
       " (0.6464646464646464, 50, 3, 0.6, 2.86),\n",
       " (0.693877551020408, 50, 3, 0.6, 3.5),\n",
       " (0.7126436781609196, 50, 4, 1.0, 2),\n",
       " (0.6593406593406593, 50, 4, 1.0, 2.86),\n",
       " (0.6526315789473683, 50, 4, 1.0, 3.5),\n",
       " (0.651685393258427, 50, 4, 0.8, 2),\n",
       " (0.6976744186046512, 50, 4, 0.8, 2.86),\n",
       " (0.6888888888888888, 50, 4, 0.8, 3.5),\n",
       " (0.6966292134831461, 50, 4, 0.6, 2),\n",
       " (0.6739130434782609, 50, 4, 0.6, 2.86),\n",
       " (0.6666666666666666, 50, 4, 0.6, 3.5),\n",
       " (0.674698795180723, 100, 3, 1.0, 2),\n",
       " (0.7045454545454545, 100, 3, 1.0, 2.86),\n",
       " (0.6666666666666666, 100, 3, 1.0, 3.5),\n",
       " (0.7294117647058824, 100, 3, 0.8, 2),\n",
       " (0.6966292134831461, 100, 3, 0.8, 2.86),\n",
       " (0.6666666666666666, 100, 3, 0.8, 3.5),\n",
       " (0.6904761904761904, 100, 3, 0.6, 2),\n",
       " (0.6153846153846155, 100, 3, 0.6, 2.86),\n",
       " (0.6444444444444444, 100, 3, 0.6, 3.5),\n",
       " (0.6744186046511628, 100, 4, 1.0, 2),\n",
       " (0.6444444444444444, 100, 4, 1.0, 2.86),\n",
       " (0.6741573033707865, 100, 4, 1.0, 3.5),\n",
       " (0.6428571428571429, 100, 4, 0.8, 2),\n",
       " (0.6987951807228916, 100, 4, 0.8, 2.86),\n",
       " (0.6521739130434783, 100, 4, 0.8, 3.5),\n",
       " (0.6744186046511628, 100, 4, 0.6, 2),\n",
       " (0.6966292134831461, 100, 4, 0.6, 2.86),\n",
       " (0.6436781609195402, 100, 4, 0.6, 3.5),\n",
       " (0.6172839506172839, 150, 3, 1.0, 2),\n",
       " (0.6744186046511628, 150, 3, 1.0, 2.86),\n",
       " (0.6590909090909091, 150, 3, 1.0, 3.5),\n",
       " (0.6987951807228916, 150, 3, 0.8, 2),\n",
       " (0.711111111111111, 150, 3, 0.8, 2.86),\n",
       " (0.6666666666666666, 150, 3, 0.8, 3.5),\n",
       " (0.675, 150, 3, 0.6, 2),\n",
       " (0.6046511627906976, 150, 3, 0.6, 2.86),\n",
       " (0.5977011494252873, 150, 3, 0.6, 3.5),\n",
       " (0.6097560975609757, 150, 4, 1.0, 2),\n",
       " (0.6741573033707865, 150, 4, 1.0, 2.86),\n",
       " (0.6590909090909091, 150, 4, 1.0, 3.5),\n",
       " (0.6829268292682927, 150, 4, 0.8, 2),\n",
       " (0.6666666666666666, 150, 4, 0.8, 2.86),\n",
       " (0.651685393258427, 150, 4, 0.8, 3.5),\n",
       " (0.6896551724137931, 150, 4, 0.6, 2),\n",
       " (0.6590909090909091, 150, 4, 0.6, 2.86),\n",
       " (0.6352941176470588, 150, 4, 0.6, 3.5)]"
      ]
     },
     "execution_count": 107,
     "metadata": {},
     "output_type": "execute_result"
    }
   ],
   "source": [
    "cv_scores"
   ]
  },
  {
   "cell_type": "markdown",
   "metadata": {},
   "source": [
    "**Step 4:** Refit your model on all of your training data and get your test score."
   ]
  },
  {
   "cell_type": "code",
   "execution_count": 97,
   "metadata": {},
   "outputs": [],
   "source": [
    "# your code here"
   ]
  }
 ],
 "metadata": {
  "kernelspec": {
   "display_name": "Python 3",
   "language": "python",
   "name": "python3"
  },
  "language_info": {
   "codemirror_mode": {
    "name": "ipython",
    "version": 3
   },
   "file_extension": ".py",
   "mimetype": "text/x-python",
   "name": "python",
   "nbconvert_exporter": "python",
   "pygments_lexer": "ipython3",
   "version": "3.8.3"
  }
 },
 "nbformat": 4,
 "nbformat_minor": 4
}
