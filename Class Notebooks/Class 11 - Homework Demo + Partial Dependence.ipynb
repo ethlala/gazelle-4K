{
 "cells": [
  {
   "cell_type": "markdown",
   "metadata": {},
   "source": [
    "# Class 11 - Homework Demo + Partial Dependence"
   ]
  },
  {
   "cell_type": "markdown",
   "metadata": {},
   "source": [
    "### Correlation \n",
    "Especially for tree-based models, using Spearman correlation (which is close to correlation of rank) "
   ]
  },
  {
   "cell_type": "markdown",
   "metadata": {},
   "source": [
    "## Partial Dependence\n",
    "\n",
    "This helps us think about feature importance in a deeper way through understanding model outputs at a local level. \n",
    "\n",
    "One of the best things about linear regression is understanding how a unit change in the inputs corresponds to changes in the output (both in direction and magnitude). \n",
    "\n",
    "Partial dependence is a form of sensitivity analysis. **Think about holding everything constant and then tweaking one input variable by a very small amount and seeing the impact on the output (target variable).**\n",
    "\n",
    "How does this happen? \n",
    "* Basically, you change every value in a given column to a single value and see how the predictions change\n",
    "\n",
    "Partial dependence analysis can reveal patterns that are hidden (often by confounding factors) in the original data. \n",
    "\n",
    "For example: \n",
    "* Some older houses appear to be more expensive than newer houses \n",
    "* \n",
    "\n",
    "There is a great package in R called icebox that does this \n",
    "\n",
    "Python has one called pdpbox, which we will try to install \n"
   ]
  },
  {
   "cell_type": "markdown",
   "metadata": {},
   "source": [
    "## Development Environments\n",
    "A best practice is to set up a new development environmnent for every new project. \n",
    "\n",
    "Luckily, anaconda is very good at this! You can create a new environment in the UI or via the terminal \n",
    "\n",
    "We manage requirements with a requirements.txt file - a list of all the packages we'll need for the paticular project \n",
    "\n",
    "`conda activate` in the terminal puts your terminal into the new environment \n",
    "\n",
    "`pip freeze` will show you previously installed packages \n",
    "\n",
    "We can then `pip install pdpbox` without worrying about conflicting packages and dependencies \n",
    "\n",
    "Also make sure to `pip install` from the requirements.txt file! \n",
    "* `pip install -r requirements.txt`"
   ]
  },
  {
   "cell_type": "markdown",
   "metadata": {},
   "source": [
    "## Bucket of Ideas for homework \n",
    "1. Make a 'naive' model straightaway and look at the tree \n",
    "2. Do Spearman df.corr with the variables \n",
    "3. At end, hyper-parameter tuning with a for-loop \n",
    "4. Sort by datetime before doing training-test split \n",
    "\n"
   ]
  },
  {
   "cell_type": "markdown",
   "metadata": {},
   "source": [
    "## Other smart things \n",
    "* If you have a target variable with very large or very small values, you can often get more mileage by trying to **predict the log of those values rather than the values themselves**. This effectively means that we'll be evaluating predictions based on percent change rather than based on raw squared error. **This also helps the model from 'chasing' or being 'disproportionately influenced' by outlier models\n",
    "    * 'For the majority of regression problems in practice, most people use logs' "
   ]
  },
  {
   "cell_type": "code",
   "execution_count": null,
   "metadata": {},
   "outputs": [],
   "source": []
  }
 ],
 "metadata": {
  "kernelspec": {
   "display_name": "Python 3",
   "language": "python",
   "name": "python3"
  },
  "language_info": {
   "codemirror_mode": {
    "name": "ipython",
    "version": 3
   },
   "file_extension": ".py",
   "mimetype": "text/x-python",
   "name": "python",
   "nbconvert_exporter": "python",
   "pygments_lexer": "ipython3",
   "version": "3.8.5"
  }
 },
 "nbformat": 4,
 "nbformat_minor": 4
}
