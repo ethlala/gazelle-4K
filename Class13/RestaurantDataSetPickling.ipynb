{
 "cells": [
  {
   "cell_type": "code",
   "execution_count": 13,
   "metadata": {},
   "outputs": [],
   "source": [
    "import pandas as pd\n",
    "import numpy as np\n",
    "from sklearn.pipeline import make_pipeline\n",
    "from sklearn.tree import DecisionTreeRegressor\n",
    "import category_encoders as ce"
   ]
  },
  {
   "cell_type": "code",
   "execution_count": 3,
   "metadata": {},
   "outputs": [],
   "source": [
    "df = pd.read_csv(r\"https://raw.githubusercontent.com/JonathanBechtel/dat-11-15/main/ClassMaterial/Unit1/data/master.csv\", parse_dates = ['visit_date'])"
   ]
  },
  {
   "cell_type": "code",
   "execution_count": 14,
   "metadata": {},
   "outputs": [
    {
     "data": {
      "text/plain": [
       "['id', 'day_of_week', 'genre', 'area']"
      ]
     },
     "execution_count": 14,
     "metadata": {},
     "output_type": "execute_result"
    }
   ],
   "source": [
    "df.select_dtypes(include = np.object).columns.tolist()"
   ]
  },
  {
   "cell_type": "code",
   "execution_count": 15,
   "metadata": {},
   "outputs": [],
   "source": [
    "df['yesterday'] = df.groupby('id').apply(lambda x: x['visitors'].shift()).values\n",
    "df['last_week'] = df.groupby('id').apply(lambda x: x['visitors'].shift(7)).values\n",
    "\n",
    "# fill in missing reservations\n",
    "df['reserve_visitors'] = df['reserve_visitors'].fillna(0)\n",
    "\n",
    "# drop missing values from shifts\n",
    "df = df.dropna()"
   ]
  },
  {
   "cell_type": "code",
   "execution_count": 16,
   "metadata": {},
   "outputs": [],
   "source": [
    "X = df[['id', 'yesterday', 'day_of_week']]\n",
    "y = df['visitors']"
   ]
  },
  {
   "cell_type": "code",
   "execution_count": 17,
   "metadata": {},
   "outputs": [],
   "source": [
    "# let's assume these were our optimized parameters\n",
    "tree = DecisionTreeRegressor(max_depth = 7, max_features = 0.8, min_samples_leaf = 10)\n",
    "\n",
    "pipe = make_pipeline(ce.TargetEncoder(), tree)"
   ]
  },
  {
   "cell_type": "code",
   "execution_count": 18,
   "metadata": {},
   "outputs": [
    {
     "data": {
      "text/plain": [
       "Pipeline(steps=[('targetencoder', TargetEncoder(cols=['id', 'day_of_week'])),\n",
       "                ('decisiontreeregressor',\n",
       "                 DecisionTreeRegressor(max_depth=7, max_features=0.8,\n",
       "                                       min_samples_leaf=10))])"
      ]
     },
     "execution_count": 18,
     "metadata": {},
     "output_type": "execute_result"
    }
   ],
   "source": [
    "# fit the tree, and export it\n",
    "# fitting on ALL of X and y, not just the training set \n",
    "pipe.fit(X, y)"
   ]
  },
  {
   "cell_type": "code",
   "execution_count": 19,
   "metadata": {},
   "outputs": [],
   "source": [
    "# the pickle module allows you to export saved models\n",
    "import pickle\n",
    "\n",
    "# rb -- WRITE the file in BYTES\n",
    "with open('pipe.pkl', 'wb') as export:\n",
    "    # this creates an external version of the file that we can now import later on\n",
    "    pickle.dump(pipe, export)"
   ]
  },
  {
   "cell_type": "code",
   "execution_count": 27,
   "metadata": {},
   "outputs": [],
   "source": [
    "# we can now import this, and re-use it on new data:  very handy\n",
    "\n",
    "with open('pipe.pkl', 'rb') as import_:\n",
    "    # this will import the pickled object again\n",
    "    pipe2 = pickle.load(import_)"
   ]
  },
  {
   "cell_type": "code",
   "execution_count": 28,
   "metadata": {},
   "outputs": [
    {
     "data": {
      "text/plain": [
       "Pipeline(steps=[('targetencoder', TargetEncoder(cols=['id', 'day_of_week'])),\n",
       "                ('decisiontreeregressor',\n",
       "                 DecisionTreeRegressor(max_depth=7, max_features=0.8,\n",
       "                                       min_samples_leaf=10))])"
      ]
     },
     "execution_count": 28,
     "metadata": {},
     "output_type": "execute_result"
    }
   ],
   "source": [
    "# here it is\n",
    "pipe2"
   ]
  },
  {
   "cell_type": "code",
   "execution_count": 29,
   "metadata": {},
   "outputs": [
    {
     "data": {
      "text/plain": [
       "array([26.02951065, 32.35852425, 21.71750433, ..., 51.37125749,\n",
       "       42.82732865, 51.37125749])"
      ]
     },
     "execution_count": 29,
     "metadata": {},
     "output_type": "execute_result"
    }
   ],
   "source": [
    "# and we can use it to make new predictions\n",
    "pipe2.predict(X)"
   ]
  },
  {
   "cell_type": "markdown",
   "metadata": {},
   "source": [
    "### Making Predictions in Practice "
   ]
  },
  {
   "cell_type": "code",
   "execution_count": 21,
   "metadata": {},
   "outputs": [],
   "source": [
    "sample_id = 'adsfaeiw384793ljlj'\n",
    "yesterday = 55\n",
    "day_of_week = 'Sunday'\n",
    "\n",
    "#single sample to 1 row dataframe"
   ]
  },
  {
   "cell_type": "code",
   "execution_count": 23,
   "metadata": {
    "scrolled": true
   },
   "outputs": [
    {
     "data": {
      "text/html": [
       "<div>\n",
       "<style scoped>\n",
       "    .dataframe tbody tr th:only-of-type {\n",
       "        vertical-align: middle;\n",
       "    }\n",
       "\n",
       "    .dataframe tbody tr th {\n",
       "        vertical-align: top;\n",
       "    }\n",
       "\n",
       "    .dataframe thead th {\n",
       "        text-align: right;\n",
       "    }\n",
       "</style>\n",
       "<table border=\"1\" class=\"dataframe\">\n",
       "  <thead>\n",
       "    <tr style=\"text-align: right;\">\n",
       "      <th></th>\n",
       "      <th>id</th>\n",
       "      <th>yesterday</th>\n",
       "      <th>day_of_week</th>\n",
       "    </tr>\n",
       "  </thead>\n",
       "  <tbody>\n",
       "    <tr>\n",
       "      <th>0</th>\n",
       "      <td>adsfaeiw384793ljlj</td>\n",
       "      <td>55</td>\n",
       "      <td>Sunday</td>\n",
       "    </tr>\n",
       "  </tbody>\n",
       "</table>\n",
       "</div>"
      ],
      "text/plain": [
       "                   id  yesterday day_of_week\n",
       "0  adsfaeiw384793ljlj         55      Sunday"
      ]
     },
     "execution_count": 23,
     "metadata": {},
     "output_type": "execute_result"
    }
   ],
   "source": [
    "#needs to be in dict form if you're using a pipeline \n",
    "#otherwise needs to be a numpy array \n",
    "\n",
    "sample = {\n",
    "    'id': sample_id,\n",
    "    'yesterday': yesterday,\n",
    "    'day_of_week': day_of_week\n",
    "}\n",
    "\n",
    "pd.DataFrame(sample, index = [0])"
   ]
  },
  {
   "cell_type": "code",
   "execution_count": 33,
   "metadata": {},
   "outputs": [],
   "source": [
    "sample = pd.DataFrame(sample, index = [0])"
   ]
  },
  {
   "cell_type": "code",
   "execution_count": 37,
   "metadata": {},
   "outputs": [
    {
     "data": {
      "text/plain": [
       "array([22.75972006])"
      ]
     },
     "execution_count": 37,
     "metadata": {},
     "output_type": "execute_result"
    }
   ],
   "source": [
    "pipe2.predict(sample)"
   ]
  },
  {
   "cell_type": "code",
   "execution_count": null,
   "metadata": {},
   "outputs": [],
   "source": []
  }
 ],
 "metadata": {
  "kernelspec": {
   "display_name": "Python 3",
   "language": "python",
   "name": "python3"
  },
  "language_info": {
   "codemirror_mode": {
    "name": "ipython",
    "version": 3
   },
   "file_extension": ".py",
   "mimetype": "text/x-python",
   "name": "python",
   "nbconvert_exporter": "python",
   "pygments_lexer": "ipython3",
   "version": "3.8.5"
  }
 },
 "nbformat": 4,
 "nbformat_minor": 4
}
