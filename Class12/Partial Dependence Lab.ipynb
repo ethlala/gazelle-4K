{
 "cells": [
  {
   "cell_type": "markdown",
   "metadata": {},
   "source": [
    "### Partial Dependence Lab\n",
    "\n",
    "For this lab, your assignment is somewhat simple (but not necessarily easy). \n",
    "\n",
    "Your job is to take the dataset you are currently working on, and create at least three partial dependence plots from your model.  They can be either for categorical, numeric, or interactions between two features.  \n",
    "\n",
    "You should choose these plots based either off what data is important to your model, or as a way to answer questions about your data that you find interesting.  "
   ]
  },
  {
   "cell_type": "code",
   "execution_count": null,
   "metadata": {},
   "outputs": [],
   "source": [
    "# your work here"
   ]
  }
 ],
 "metadata": {
  "kernelspec": {
   "display_name": "Python 3",
   "language": "python",
   "name": "python3"
  },
  "language_info": {
   "codemirror_mode": {
    "name": "ipython",
    "version": 3
   },
   "file_extension": ".py",
   "mimetype": "text/x-python",
   "name": "python",
   "nbconvert_exporter": "python",
   "pygments_lexer": "ipython3",
   "version": "3.8.5"
  }
 },
 "nbformat": 4,
 "nbformat_minor": 5
}
